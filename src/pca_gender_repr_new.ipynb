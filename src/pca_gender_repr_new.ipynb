{
 "cells": [
  {
   "cell_type": "code",
   "execution_count": 1,
   "metadata": {},
   "outputs": [],
   "source": [
    "%load_ext autoreload\n",
    "%autoreload 2\n",
    "import sys\n",
    "sys.path.append(\"../src\")\n",
    "sys.path.append(\"../data/embeddings\")\n",
    "sys.path.append(\"../data/biasbios\")\n",
    "sys.path.append(\"../data/embeddings/biasbios\")\n",
    "import classifier\n",
    "import debias\n",
    "import codecs\n",
    "import json\n",
    "import numpy as np\n",
    "import random\n",
    "import sklearn\n",
    "from sklearn import model_selection\n",
    "from sklearn import cluster\n",
    "from sklearn import metrics\n",
    "from sklearn.manifold import TSNE\n",
    "from sklearn.svm import LinearSVC, SVC\n",
    "from sklearn.neural_network import MLPClassifier\n",
    "from sklearn.metrics.pairwise import cosine_similarity\n",
    "from sklearn.feature_extraction import DictVectorizer\n",
    "from transformers import BertTokenizer, BertModel, BertForMaskedLM\n",
    "\n",
    "import scipy\n",
    "from scipy import linalg\n",
    "from scipy import sparse\n",
    "from scipy.stats.stats import pearsonr\n",
    "import tqdm\n",
    "import matplotlib\n",
    "import matplotlib.pyplot as plt\n",
    "from sklearn.linear_model import SGDClassifier, SGDRegressor, Perceptron, LogisticRegression\n",
    "\n",
    "%matplotlib inline\n",
    "matplotlib.rcParams['agg.path.chunksize'] = 10000\n",
    "\n",
    "import warnings\n",
    "warnings.filterwarnings(\"ignore\")\n",
    "\n",
    "import pickle\n",
    "from collections import defaultdict, Counter\n",
    "from typing import List, Dict\n",
    "\n",
    "import torch\n",
    "from torch import utils\n",
    "\n",
    "import copy\n",
    "import pandas as pd\n",
    "\n"
   ]
  },
  {
   "cell_type": "markdown",
   "metadata": {},
   "source": [
    "### Load data"
   ]
  },
  {
   "cell_type": "code",
   "execution_count": 2,
   "metadata": {},
   "outputs": [],
   "source": [
    "def load_dataset(path):\n",
    "    \n",
    "    with open(path, \"rb\") as f:\n",
    "        \n",
    "        data = pickle.load(f)\n",
    "    return data\n",
    "\n",
    "def load_dictionary(path):\n",
    "    \n",
    "    with open(path, \"r\", encoding = \"utf-8\") as f:\n",
    "        \n",
    "        lines = f.readlines()\n",
    "        \n",
    "    k2v, v2k = {}, {}\n",
    "    for line in lines:\n",
    "        \n",
    "        k,v = line.strip().split(\"\\t\")\n",
    "        v = int(v)\n",
    "        k2v[k] = v\n",
    "        v2k[v] = k\n",
    "    \n",
    "    return k2v, v2k\n",
    "    \n",
    "def count_profs_and_gender(data: List[dict]):\n",
    "    \n",
    "    counter = defaultdict(Counter)\n",
    "    for entry in data:\n",
    "        gender, prof = entry[\"g\"], entry[\"p\"]\n",
    "        counter[prof][gender] += 1\n",
    "        \n",
    "    return counter"
   ]
  },
  {
   "cell_type": "markdown",
   "metadata": {},
   "source": [
    "### Load original data (train.pickle etc.) and pre-calculated BERT CLS states (\"train_cls.npy\" etc.)"
   ]
  },
  {
   "cell_type": "code",
   "execution_count": 19,
   "metadata": {},
   "outputs": [
    {
     "name": "stdout",
     "output_type": "stream",
     "text": [
      "/Users/hilagonen/Documents/mgender/dev/multi/inlp_release/src\n",
      "0.46286566875856267\n",
      "{'professor': 0.45118956904580476, 'chiropractor': 0.26558891454965355, 'psychologist': 0.6223011751844766, 'architect': 0.23712053792148718, 'physician': 0.507688318423441, 'nurse': 0.9085446207369142, 'dentist': 0.35589474411216243, 'surgeon': 0.14857228961048746, 'rapper': 0.09665955934612651, 'model': 0.8283124500133298, 'photographer': 0.35721920736720936, 'composer': 0.16392857142857142, 'comedian': 0.21150410861021793, 'filmmaker': 0.3295762590954487, 'paralegal': 0.8483305036785512, 'journalist': 0.49488721804511276, 'personal_trainer': 0.45670391061452514, 'teacher': 0.603111879476414, 'painter': 0.4579886246122027, 'attorney': 0.38316925813475633, 'accountant': 0.36818825194621374, 'software_engineer': 0.1576889661164205, 'poet': 0.49080017115960634, 'dj': 0.1420875420875421, 'pastor': 0.24052132701421802, 'yoga_teacher': 0.8454600120264583, 'dietitian': 0.9273504273504274, 'interior_designer': 0.8086124401913876}\n"
     ]
    }
   ],
   "source": [
    "!pwd\n",
    "\n",
    "#Define language here!!!!!\n",
    "\n",
    "lang = \"EN\"\n",
    "ns_lang = \"FR\"\n",
    "\n",
    "\n",
    "\n",
    "train = load_dataset(\"../data/biasbios/{}/train.pickle\".format(lang))\n",
    "dev = load_dataset(\"../data/biasbios/{}/dev.pickle\".format(lang))\n",
    "test = load_dataset(\"../data/biasbios/{}/test.pickle\".format(lang))\n",
    "counter = count_profs_and_gender(train+dev+test)\n",
    "p2i, i2p = load_dictionary(\"../data/biasbios/{}/profession2index.txt\".format(lang))\n",
    "g2i, i2g = load_dictionary(\"../data/biasbios/{}/gender2index.txt\".format(lang))\n",
    "\n",
    "path = \"../data/bert_encode_biasbios/{}/\".format(lang)\n",
    "x_train = np.load(path + \"train_avg_mbert.npy\") \n",
    "x_dev = np.load(path + \"dev_avg_mbert.npy\") \n",
    "x_test = np.load(path + \"test_avg_mbert.npy\") \n",
    "\n",
    "\n",
    "assert len(train) == len(x_train)\n",
    "assert len(dev) == len(x_dev)\n",
    "assert len(test) == len(x_test)\n",
    "\n",
    "f,m = 0., 0.\n",
    "prof2fem = dict()\n",
    "\n",
    "for k, values in counter.items():\n",
    "    f += values['f']\n",
    "    m += values['m']\n",
    "    prof2fem[k] = values['f']/(values['f'] + values['m'])\n",
    "\n",
    "print(f / (f + m))\n",
    "print(prof2fem)\n",
    "\n",
    "y_train = np.array([p2i[entry[\"p\"]] for entry in train])\n",
    "y_dev = np.array([p2i[entry[\"p\"]] for entry in dev])\n",
    "y_test = np.array([p2i[entry[\"p\"]] for entry in test])\n",
    "\n"
   ]
  },
  {
   "cell_type": "markdown",
   "metadata": {},
   "source": [
    "### Load INLP matrices"
   ]
  },
  {
   "cell_type": "code",
   "execution_count": 20,
   "metadata": {},
   "outputs": [
    {
     "name": "stdout",
     "output_type": "stream",
     "text": [
      "(100, 768)\n",
      "(768, 768)\n",
      "668\n",
      "100\n",
      "(100, 768)\n",
      "(768, 768)\n",
      "668\n",
      "100\n",
      "(100, 768)\n",
      "(768, 768)\n",
      "668\n",
      "100\n"
     ]
    }
   ],
   "source": [
    "directory = \"final\"\n",
    "    \n",
    "\n",
    "Ws_en = np.load(\"../data/inlp_matrices/EN/{}/Ws_mbert_300_EN_avg.npy\".format(directory)) # avg \n",
    "with open(\"../data/inlp_matrices/EN/{}/iters_mbert_300_EN_avg.json\".format(directory)) as f:\n",
    "    accs_en = json.load(f)\n",
    "Ws_en_k = np.array(Ws_en[:100]).squeeze(axis=1)\n",
    "print(Ws_en_k.shape)\n",
    "row_en = debias.get_rowspace_projection(Ws_en_k)\n",
    "P_mbert_en_100 = np.eye(768) - row_en\n",
    "print(P_mbert_en_100.shape)\n",
    "print(np.linalg.matrix_rank(P_mbert_en_100))\n",
    "print(np.linalg.matrix_rank(row_en))\n",
    "\n",
    "\n",
    "Ws_fr = np.load(\"../data/inlp_matrices/FR/{}/Ws_mbert_300_FR_avg.npy\".format(directory)) #avg \n",
    "with open(\"../data/inlp_matrices/FR/{}/iters_mbert_300_FR_avg.json\".format(directory)) as f:\n",
    "    accs_fr = json.load(f)\n",
    "Ws_fr_k = np.array(Ws_fr[:100]).squeeze(axis=1)\n",
    "print(Ws_fr_k.shape)\n",
    "row_fr = debias.get_rowspace_projection(Ws_fr_k)\n",
    "P_mbert_fr_100 = np.eye(768) - row_fr\n",
    "print(P_mbert_fr_100.shape)\n",
    "print(np.linalg.matrix_rank(P_mbert_fr_100))\n",
    "print(np.linalg.matrix_rank(row_fr))\n",
    "\n",
    "\n",
    "Ws_es = np.load(\"../data/inlp_matrices/ES/{}/Ws_mbert_300_ES_avg.npy\".format(directory)) #avg\n",
    "with open(\"../data/inlp_matrices/ES/{}/iters_mbert_300_ES_avg.json\".format(directory)) as f:\n",
    "    accs_es = json.load(f)\n",
    "Ws_es_k = np.array(Ws_es[:100]).squeeze(axis=1)\n",
    "print(Ws_es_k.shape)\n",
    "row_es = debias.get_rowspace_projection(Ws_es_k)\n",
    "P_mbert_es_100 = np.eye(768) - row_es\n",
    "print(P_mbert_es_100.shape)\n",
    "print(np.linalg.matrix_rank(P_mbert_es_100))\n",
    "print(np.linalg.matrix_rank(row_es))\n",
    "\n",
    "ns_es = P_mbert_es_100\n",
    "ns_fr = P_mbert_fr_100\n",
    "ns_en = P_mbert_en_100"
   ]
  },
  {
   "cell_type": "markdown",
   "metadata": {},
   "source": [
    "### Plot similarities between classifiers"
   ]
  },
  {
   "cell_type": "code",
   "execution_count": 21,
   "metadata": {},
   "outputs": [
    {
     "name": "stdout",
     "output_type": "stream",
     "text": [
      "0.0256360462574267\n",
      "[0.7767145040127257, 0.5974896123003651, 0.45261251900972066, 0.2131230441799269, 0.209293888400143, 0.203318105379134, 0.1738285087209039, 0.15881042153722183, 0.15839705330195042, 0.15108671511650418]\n"
     ]
    },
    {
     "data": {
      "image/png": "[encoded data removed]",
      "text/plain": [
       "<Figure size 432x288 with 1 Axes>"
      ]
     },
     "metadata": {
      "needs_background": "light"
     },
     "output_type": "display_data"
    }
   ],
   "source": [
    "\n",
    "from numpy import dot\n",
    "from numpy.linalg import norm\n",
    "\n",
    "all_cossim = []\n",
    "for i in range(100):\n",
    "    a = Ws_en[i].squeeze(axis=0)\n",
    "    b = Ws_fr[i].squeeze(axis=0)\n",
    "    cos_sim = dot(a, b)/(norm(a)*norm(b))\n",
    "    all_cossim.append(cos_sim)\n",
    "\n",
    "plt.plot(all_cossim, \".\")\n",
    "plt.scatter(range(1,100,2), accs_en[:50], marker='.', color=\"red\", label=\"En accuracy\")\n",
    "plt.scatter(range(1,100,2), accs_fr[:50], marker='.', color=\"black\", label=\"Fr accuracy\")\n",
    "plt.ylabel(\"Cosine Similarity\", fontsize=14)\n",
    "plt.xlabel(\"i (# of classifier)\", fontsize=14)\n",
    "plt.legend(fontsize=14)\n",
    "print(sum(all_cossim)/len(all_cossim))\n",
    "all_cossim.sort(reverse=True)\n",
    "print(all_cossim[:10])\n",
    "plt.show()"
   ]
  },
  {
   "cell_type": "code",
   "execution_count": 22,
   "metadata": {},
   "outputs": [
    {
     "name": "stdout",
     "output_type": "stream",
     "text": [
      "0.0232801764228974\n",
      "[0.6815781304196329, 0.49699373401028485, 0.4312264780890748, 0.4251680291617261, 0.317267495044597, 0.19577991383945212, 0.19172862350905442, 0.1820303715294681, 0.16967550307618642, 0.11145830650579591]\n"
     ]
    },
    {
     "data": {
      "image/png": "[encoded data removed]",
      "text/plain": [
       "<Figure size 432x288 with 1 Axes>"
      ]
     },
     "metadata": {
      "needs_background": "light"
     },
     "output_type": "display_data"
    }
   ],
   "source": [
    "all_cossim = []\n",
    "for i in range(100):\n",
    "    a = Ws_en[i].squeeze(axis=0)\n",
    "    b = Ws_es[i].squeeze(axis=0)\n",
    "    cos_sim = dot(a, b)/(norm(a)*norm(b))\n",
    "    all_cossim.append(cos_sim)\n",
    "\n",
    "plt.plot(all_cossim, \".\")\n",
    "plt.scatter(range(1,100,2), accs_en[:50], marker='.', color=\"red\", label=\"En accuracy\")\n",
    "plt.scatter(range(1,100,2), accs_es[:50], marker='.', color=\"black\", label=\"Es accuracy\")\n",
    "plt.ylabel(\"Cosine Similarity\", fontsize=14)\n",
    "plt.xlabel(\"i (# of classifier)\", fontsize=14)\n",
    "plt.legend(fontsize=14)\n",
    "print(sum(all_cossim)/len(all_cossim))\n",
    "all_cossim.sort(reverse=True)\n",
    "print(all_cossim[:10])\n",
    "plt.show()"
   ]
  },
  {
   "cell_type": "code",
   "execution_count": 23,
   "metadata": {},
   "outputs": [
    {
     "name": "stdout",
     "output_type": "stream",
     "text": [
      "0.013534014010220705\n",
      "[0.7035199588182224, 0.5254212821222356, 0.41510389438303713, 0.4010715683108631, 0.3710913924864117, 0.30419701209958144, 0.2404227425271222, 0.22286875144928214, 0.21857763326277582, 0.19340185333609142]\n"
     ]
    },
    {
     "data": {
      "image/png": "[encoded data removed]",
      "text/plain": [
       "<Figure size 432x288 with 1 Axes>"
      ]
     },
     "metadata": {
      "needs_background": "light"
     },
     "output_type": "display_data"
    }
   ],
   "source": [
    "all_cossim = []\n",
    "for i in range(100):\n",
    "    a = Ws_fr[i].squeeze(axis=0)\n",
    "    b = Ws_es[i].squeeze(axis=0)\n",
    "    cos_sim = dot(a, b)/(norm(a)*norm(b))\n",
    "    all_cossim.append(cos_sim)\n",
    "\n",
    "plt.plot(all_cossim, \".\")\n",
    "plt.scatter(range(1,100,2), accs_fr[:50], marker='.', color=\"red\", label=\"Fr accuracy\")\n",
    "plt.scatter(range(1,100,2), accs_es[:50], marker='.', color=\"black\", label=\"Es accuracy\")\n",
    "plt.ylabel(\"Cosine Similarity\", fontsize=14)\n",
    "plt.xlabel(\"i (# of classifier)\", fontsize=14)\n",
    "plt.legend(fontsize=14)\n",
    "print(sum(all_cossim)/len(all_cossim))\n",
    "all_cossim.sort(reverse=True)\n",
    "print(all_cossim[:10])\n",
    "plt.show()\n"
   ]
  },
  {
   "cell_type": "code",
   "execution_count": 24,
   "metadata": {},
   "outputs": [
    {
     "name": "stdout",
     "output_type": "stream",
     "text": [
      "[0.7767145040127257, 0.5974896123003651, 0.45261251900972066, 0.3669620140330857, 0.3553937673023777, 0.3222938765000243, 0.28530058900250266, 0.2703828627802009, 0.2593779788897082, 0.23500920713842435]\n",
      "0.037429228062804035\n",
      "[0.7767145040127257, 0.5974896123003651, 0.45261251900972066, 0.2131230441799269, 0.209293888400143, 0.203318105379134, 0.1738285087209039, 0.15881042153722183, 0.15839705330195042, 0.15108671511650418]\n"
     ]
    }
   ],
   "source": [
    "# compute cos_sim\n",
    "\n",
    "all_cossim = []\n",
    "for i in range(100):\n",
    "    for j in range(100):\n",
    "        a = Ws_en[i].squeeze(axis=0)\n",
    "        b = Ws_fr[j].squeeze(axis=0)\n",
    "        cos_sim = dot(a, b)/(norm(a)*norm(b))\n",
    "        all_cossim.append(cos_sim)\n",
    "all_cossim.sort(reverse=True)\n",
    "print(all_cossim[:10])\n",
    "\n",
    "print(sum(np.abs(all_cossim))/len(all_cossim))\n",
    "\n",
    "all_cossim = []\n",
    "for i in range(100):\n",
    "    a = Ws_en[i].squeeze(axis=0)\n",
    "    b = Ws_fr[i].squeeze(axis=0)\n",
    "    cos_sim = dot(a, b)/(norm(a)*norm(b))\n",
    "    all_cossim.append(cos_sim)\n",
    "all_cossim.sort(reverse=True)\n",
    "print(all_cossim[:10])"
   ]
  },
  {
   "cell_type": "markdown",
   "metadata": {},
   "source": [
    "### Create random projection matrices"
   ]
  },
  {
   "cell_type": "code",
   "execution_count": 25,
   "metadata": {},
   "outputs": [
    {
     "name": "stdout",
     "output_type": "stream",
     "text": [
      "(768, 768)\n",
      "(768, 768)\n",
      "100\n",
      "668\n"
     ]
    }
   ],
   "source": [
    "random.seed(10)\n",
    "mu, sigma = 0, 0.1 # mean and standard deviation\n",
    "all_w = []\n",
    "for i in range(768):\n",
    "    w = np.random.normal(mu, sigma, 768)\n",
    "    all_w.append(w)\n",
    "\n",
    "W_random_100 = np.array(all_w[:100])\n",
    "row_rand_100 = debias.get_rowspace_projection(W_random_100)\n",
    "ns_rand_100 = np.eye(768) - row_rand_100\n",
    "print(row_rand_100.shape)\n",
    "print(ns_rand_100.shape)\n",
    "print(np.linalg.matrix_rank(row_rand_100))\n",
    "print(np.linalg.matrix_rank(ns_rand_100))\n"
   ]
  },
  {
   "cell_type": "markdown",
   "metadata": {},
   "source": [
    "### Define repr to compare"
   ]
  },
  {
   "cell_type": "code",
   "execution_count": 26,
   "metadata": {},
   "outputs": [],
   "source": [
    "\n",
    "if lang == \"EN\":\n",
    "    row = row_en\n",
    "    ns_same = ns_en\n",
    "if lang == \"FR\":\n",
    "    row = row_fr\n",
    "    ns_same = ns_fr\n",
    "if lang == \"ES\":\n",
    "    row = row_es\n",
    "    ns_same = ns_es\n",
    "    \n",
    "\n",
    "if ns_lang == \"EN\":\n",
    "    ns = ns_en\n",
    "if ns_lang == \"FR\":\n",
    "    ns = ns_fr\n",
    "if ns_lang == \"ES\":\n",
    "    ns = ns_es   \n",
    "    \n",
    "    \n",
    "row_rand = row_rand_100\n",
    "ns_rand = ns_rand_100\n",
    "\n",
    "row_ns = np.dot(ns, row)\n",
    "row_ns_rand = np.dot(ns_rand, row)\n",
    "both_rand = np.dot(ns_rand, row_rand)\n",
    "row_ns_same = np.dot(ns_same, row)\n"
   ]
  },
  {
   "cell_type": "markdown",
   "metadata": {},
   "source": [
    "### Access repr and create variations"
   ]
  },
  {
   "cell_type": "code",
   "execution_count": 27,
   "metadata": {},
   "outputs": [
    {
     "name": "stdout",
     "output_type": "stream",
     "text": [
      "255682\n"
     ]
    }
   ],
   "source": [
    "print(len(x_train))\n",
    "x_orig = x_train    \n",
    "x_row = np.dot(x_orig, row)\n",
    "x_row_rand = np.dot(x_orig, row_rand)\n",
    "x_row_ns = np.dot(x_orig, row_ns)\n",
    "x_row_ns_rand = np.dot(x_orig, row_ns_rand)\n",
    "x_both_rand = np.dot(x_orig, both_rand)\n",
    "x_row_ns_same = np.dot(x_orig, row_ns_same)"
   ]
  },
  {
   "cell_type": "code",
   "execution_count": 28,
   "metadata": {},
   "outputs": [],
   "source": [
    "from sklearn.decomposition import PCA\n",
    "\n",
    "def pca_var(x):\n",
    "    pca = PCA()\n",
    "    pca.fit(x)\n",
    "    pca_var = pca.explained_variance_    \n",
    "    return pca_var\n",
    "\n",
    "\n",
    "pca_orig = pca_var(x_orig)\n",
    "pca_row = pca_var(x_row)\n",
    "pca_row_rand = pca_var(x_row_rand)\n",
    "pca_row_ns = pca_var(x_row_ns)\n",
    "pca_row_ns_rand = pca_var(x_row_ns_rand)\n",
    "pca_both_rand = pca_var(x_both_rand)\n",
    "pca_row_ns_same = pca_var(x_row_ns_same)"
   ]
  },
  {
   "cell_type": "code",
   "execution_count": 29,
   "metadata": {},
   "outputs": [
    {
     "name": "stdout",
     "output_type": "stream",
     "text": [
      "En\n",
      "Fr\n"
     ]
    },
    {
     "data": {
      "image/png": "[encoded data removed]",
      "text/plain": [
       "<Figure size 432x288 with 1 Axes>"
      ]
     },
     "metadata": {
      "needs_background": "light"
     },
     "output_type": "display_data"
    },
    {
     "name": "stdout",
     "output_type": "stream",
     "text": [
      "orig 14.029238510465584\n",
      "row 2.3532081539433607\n",
      "row_rand 1.8258729506872216\n",
      "row_ns 1.3789965997015998\n",
      "row_ns_rand 2.0492534240483957\n",
      "row_ns_same 8.072594793790279e-30\n"
     ]
    }
   ],
   "source": [
    "lang = lang[0] + lang[1].lower()\n",
    "ns_lang = ns_lang[0] + ns_lang[1].lower()\n",
    "print(lang)\n",
    "print(ns_lang)\n",
    "plt.plot(pca_orig[:15], marker='.', color=\"black\", label=\"orig\")\n",
    "plt.plot(pca_row[:15], marker='v', color=\"blue\", label=\"{}Gender\".format(lang))\n",
    "plt.plot(pca_row_rand[:15], marker='^', color=\"red\", label=\"{}Rand\".format(lang))\n",
    "plt.plot(pca_row_ns[:15], marker='d', color=\"cyan\", label=\"{}Gender + {}Neutral\".format(lang, ns_lang))\n",
    "plt.plot(pca_row_ns_rand[:15], marker='x', color=\"pink\", label=\"{}Gender + {}Rand\".format(lang, ns_lang))\n",
    "plt.plot(pca_row_ns_same[:15], color=\"orange\", label=\"{}Gender + {}Neutral\".format(lang, lang))\n",
    "\n",
    "plt.legend(loc=\"upper right\", fontsize=14)\n",
    "plt.ylabel(\"Explained Variance\", fontsize=14)\n",
    "plt.xlabel(\"# of Component\", fontsize=14)\n",
    "plt.show()\n",
    "\n",
    "print(\"orig\", sum(pca_orig))\n",
    "print(\"row\", sum(pca_row))\n",
    "print(\"row_rand\", sum(pca_row_rand))\n",
    "print(\"row_ns\", sum(pca_row_ns))\n",
    "print(\"row_ns_rand\", sum(pca_row_ns_rand))\n",
    "print(\"row_ns_same\", sum(pca_row_ns_same))\n"
   ]
  },
  {
   "cell_type": "code",
   "execution_count": null,
   "metadata": {},
   "outputs": [],
   "source": []
  }
 ],
 "metadata": {
  "kernelspec": {
   "display_name": "genderm",
   "language": "python",
   "name": "genderm"
  },
  "language_info": {
   "codemirror_mode": {
    "name": "ipython",
    "version": 3
   },
   "file_extension": ".py",
   "mimetype": "text/x-python",
   "name": "python",
   "nbconvert_exporter": "python",
   "pygments_lexer": "ipython3",
   "version": "3.8.8"
  }
 },
 "nbformat": 4,
 "nbformat_minor": 2
}
